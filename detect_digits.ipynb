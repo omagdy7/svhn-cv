{
 "cells": [
  {
   "cell_type": "markdown",
   "id": "45783362",
   "metadata": {},
   "source": [
    "## import used libraries"
   ]
  },
  {
   "cell_type": "code",
   "execution_count": 1,
   "id": "1c5e4b42",
   "metadata": {},
   "outputs": [],
   "source": [
    "import cv2\n",
    "import os\n",
    "import json\n",
    "import random"
   ]
  },
  {
   "cell_type": "markdown",
   "id": "61793880",
   "metadata": {},
   "source": [
    "## Handy function for showing images"
   ]
  },
  {
   "cell_type": "code",
   "execution_count": 2,
   "id": "00274493",
   "metadata": {},
   "outputs": [],
   "source": [
    "def show(file, img):\n",
    "    cv2.imshow(file, img)\n",
    "    cv2.waitKey(0)\n",
    "    cv2.destroyAllWindows()\n"
   ]
  },
  {
   "cell_type": "markdown",
   "id": "6b0c125b",
   "metadata": {},
   "source": [
    "## Get images and initialze result with empty array"
   ]
  },
  {
   "cell_type": "code",
   "execution_count": 23,
   "id": "3d6ce3ee",
   "metadata": {},
   "outputs": [
    {
     "name": "stdout",
     "output_type": "stream",
     "text": [
      "['10070.png', '1004.png', '10047.png', '10032.png', '10021.png', '10048.png', '10068.png', '10038.png', '10071.png', '10007.png', '10039.png', '10008.png', '10027.png', '10000.png', '10066.png', '10063.png', '10006.png', '10013.png', '10062.png', '10057.png', '1001.png', '10030.png', '10067.png', '10022.png', '10035.png', '10045.png', '10055.png', '10065.png', '10019.png', '10043.png', '1005.png', '10017.png', '10034.png', '10004.png', '10033.png', '1002.png', '10041.png', '10046.png', '10037.png', '1003.png', '10011.png', '1000.png', '10051.png', '10053.png', '10002.png', '10003.png', '10020.png', '10058.png', '10042.png', '10072.png', '10050.png', '10059.png', '10054.png', '10016.png', '1006.png', '10024.png', '10001.png', '10029.png', '10009.png', '10025.png', '10044.png', '10031.png', '10005.png', '10036.png', '10028.png', '10064.png', '10012.png', '10056.png', '10014.png', '10060.png', '10010.png', '10023.png', '10052.png', '10015.png', '10061.png', '10026.png', '10049.png', '10069.png', '10040.png', '10018.png']\n"
     ]
    }
   ],
   "source": [
    "path = \"./data\"\n",
    "files = [f for f in os.listdir(path) if f.endswith(\".png\")]\n",
    "print(files)\n",
    "results = []\n"
   ]
  },
  {
   "cell_type": "markdown",
   "id": "acae1d4a",
   "metadata": {},
   "source": [
    "## Define the Algorithm to detect digits"
   ]
  },
  {
   "cell_type": "code",
   "execution_count": 18,
   "id": "f00d7704",
   "metadata": {},
   "outputs": [],
   "source": [
    "def detect_digits(file):\n",
    "    # Load the image and convert to grayscale\n",
    "    img = cv2.imread(file)\n",
    "    gray = cv2.cvtColor(img, cv2.COLOR_BGR2GRAY)\n",
    "    \n",
    "    # Increase image contrast using histogram equalization\n",
    "    gray = cv2.equalizeHist(gray)\n",
    "\n",
    "    # Sharpen the image using the unsharp masking technique\n",
    "    blurred = cv2.GaussianBlur(gray, (0, 0), 3)\n",
    "    sharpened = cv2.addWeighted(gray, 1.5, blurred, -0.5, 0)\n",
    "    \n",
    "    # Apply adaptive thresholding to the image\n",
    "    binary = cv2.adaptiveThreshold(\n",
    "        sharpened, 255, cv2.ADAPTIVE_THRESH_MEAN_C, cv2.THRESH_BINARY_INV, 11, 2)\n",
    "    inverted = 255 - binary\n",
    "    \n",
    "        # Apply Canny edge detection to the binary image\n",
    "    edges = cv2.Canny(binary, 100, 200)\n",
    "\n",
    "    # Find contours of the digits\n",
    "    contours, _ = cv2.findContours(\n",
    "        binary, cv2.RETR_EXTERNAL, cv2.CHAIN_APPROX_SIMPLE)\n",
    "    contours_inv, _ = cv2.findContours(\n",
    "        inverted, cv2.RETR_EXTERNAL, cv2.CHAIN_APPROX_SIMPLE)\n",
    "    \n",
    "       # Filter out small contours\n",
    "    min_contour_area = 50\n",
    "    contours = [c for c in contours if cv2.contourArea(\n",
    "        c) > min_contour_area] + [c for c in contours_inv if cv2.contourArea(c) > min_contour_area]\n",
    "    \n",
    "        # Define minimum and maximum aspect ratio for digits\n",
    "    min_aspect_ratio = 0.2\n",
    "    max_aspect_ratio = 2.5\n",
    "     # Draw bounding boxes around the regions that are likely to contain digits\n",
    "    for contour in contours:\n",
    "        left, top, width, height = cv2.boundingRect(contour)\n",
    "\n",
    "        aspect_ratio = width / float(height)\n",
    "\n",
    "        # Filter out regions with aspect ratio outside the desired range\n",
    "        if aspect_ratio < min_aspect_ratio or aspect_ratio > max_aspect_ratio:\n",
    "            continue\n",
    "\n",
    "        std_dev_threshold = 15\n",
    "        std_dev = cv2.meanStdDev(\n",
    "            gray[top:top+height, left:left+width])[1][0][0]\n",
    "        if std_dev < std_dev_threshold:\n",
    "            continue\n",
    "            \n",
    "\n",
    "        # Calculate image dimensions\n",
    "        img_height, img_width = img.shape[:2]\n",
    "        \n",
    "        # The digits is likely to be in the middle of the image so filter out contours on the far edges\n",
    "        if (left < int(0.1 * img_width)) or ((left + width) > int(0.9 * img_width)):\n",
    "            continue\n",
    "\n",
    "        # Define minimum and maximum dimensions for digits\n",
    "        minWidth = int(0.04 * img_width)\n",
    "        minHeight = int(0.04 * img_height)\n",
    "        maxWidth = int(0.27 * img_width)\n",
    "        maxHeight = int(0.95 * img_height)\n",
    "        \n",
    "\n",
    "        if width < minWidth or height < minHeight or width > maxWidth or height > maxHeight:\n",
    "            continue\n",
    "            \n",
    "        # Draw bounding boxes around the regions that are likely to contain digits\n",
    "        cv2.rectangle(img, (left, top), (left + width,\n",
    "                      top + height), (0, 0, 255), 1)\n",
    "\n",
    "    # Display the image with bounding boxes around the digits\n",
    "    show(file, img)\n",
    "\n",
    "    "
   ]
  },
  {
   "cell_type": "markdown",
   "id": "953505fd",
   "metadata": {},
   "source": [
    "## Test algorithm accuracy"
   ]
  },
  {
   "cell_type": "code",
   "execution_count": null,
   "id": "7583c3e4",
   "metadata": {},
   "outputs": [],
   "source": []
  },
  {
   "cell_type": "markdown",
   "id": "a4bcf963",
   "metadata": {},
   "source": [
    "## Loop on some files to test the algorithms"
   ]
  },
  {
   "cell_type": "code",
   "execution_count": 25,
   "id": "2792d7b2",
   "metadata": {},
   "outputs": [
    {
     "name": "stdout",
     "output_type": "stream",
     "text": [
      "./data/10070.png\n",
      "./data/1004.png\n",
      "./data/10047.png\n",
      "./data/10032.png\n",
      "./data/10021.png\n",
      "./data/10048.png\n",
      "./data/10068.png\n",
      "./data/10038.png\n",
      "./data/10071.png\n",
      "./data/10007.png\n",
      "./data/10039.png\n",
      "./data/10008.png\n",
      "./data/10027.png\n",
      "./data/10000.png\n",
      "./data/10066.png\n",
      "./data/10063.png\n",
      "./data/10006.png\n",
      "./data/10013.png\n",
      "./data/10062.png\n",
      "./data/10057.png\n"
     ]
    }
   ],
   "source": [
    "for i in range(20):\n",
    "    file = f'{path}/{files[i]}'\n",
    "    print(file)\n",
    "    boxes = []    \n",
    "    detect_digits(file)\n",
    "    \n",
    "cv2.destroyAllWindows()\n",
    "\n"
   ]
  },
  {
   "cell_type": "code",
   "execution_count": null,
   "id": "e080de5e",
   "metadata": {},
   "outputs": [],
   "source": []
  }
 ],
 "metadata": {
  "kernelspec": {
   "display_name": "Python 3 (ipykernel)",
   "language": "python",
   "name": "python3"
  },
  "language_info": {
   "codemirror_mode": {
    "name": "ipython",
    "version": 3
   },
   "file_extension": ".py",
   "mimetype": "text/x-python",
   "name": "python",
   "nbconvert_exporter": "python",
   "pygments_lexer": "ipython3",
   "version": "3.10.10"
  }
 },
 "nbformat": 4,
 "nbformat_minor": 5
}
